{
 "cells": [
  {
   "cell_type": "code",
   "execution_count": 58,
   "metadata": {},
   "outputs": [],
   "source": [
    "# Importing all the libraries\n",
    "import pandas as pd\n",
    "import numpy as np\n",
    "import matplotlib.pyplot as plt\n",
    "import sklearn"
   ]
  },
  {
   "cell_type": "code",
   "execution_count": 59,
   "metadata": {},
   "outputs": [
    {
     "data": {
      "text/html": [
       "<div>\n",
       "<style scoped>\n",
       "    .dataframe tbody tr th:only-of-type {\n",
       "        vertical-align: middle;\n",
       "    }\n",
       "\n",
       "    .dataframe tbody tr th {\n",
       "        vertical-align: top;\n",
       "    }\n",
       "\n",
       "    .dataframe thead th {\n",
       "        text-align: right;\n",
       "    }\n",
       "</style>\n",
       "<table border=\"1\" class=\"dataframe\">\n",
       "  <thead>\n",
       "    <tr style=\"text-align: right;\">\n",
       "      <th></th>\n",
       "      <th>Unnamed: 0</th>\n",
       "      <th>asin</th>\n",
       "      <th>helpful</th>\n",
       "      <th>overall</th>\n",
       "      <th>reviewText</th>\n",
       "      <th>reviewTime</th>\n",
       "      <th>reviewerID</th>\n",
       "      <th>reviewerName</th>\n",
       "      <th>summary</th>\n",
       "      <th>unixReviewTime</th>\n",
       "    </tr>\n",
       "  </thead>\n",
       "  <tbody>\n",
       "    <tr>\n",
       "      <th>0</th>\n",
       "      <td>0</td>\n",
       "      <td>B000F83SZQ</td>\n",
       "      <td>[0, 0]</td>\n",
       "      <td>5</td>\n",
       "      <td>I enjoy vintage books and movies so I enjoyed ...</td>\n",
       "      <td>05 5, 2014</td>\n",
       "      <td>A1F6404F1VG29J</td>\n",
       "      <td>Avidreader</td>\n",
       "      <td>Nice vintage story</td>\n",
       "      <td>1399248000</td>\n",
       "    </tr>\n",
       "    <tr>\n",
       "      <th>1</th>\n",
       "      <td>1</td>\n",
       "      <td>B000F83SZQ</td>\n",
       "      <td>[2, 2]</td>\n",
       "      <td>4</td>\n",
       "      <td>This book is a reissue of an old one; the auth...</td>\n",
       "      <td>01 6, 2014</td>\n",
       "      <td>AN0N05A9LIJEQ</td>\n",
       "      <td>critters</td>\n",
       "      <td>Different...</td>\n",
       "      <td>1388966400</td>\n",
       "    </tr>\n",
       "    <tr>\n",
       "      <th>2</th>\n",
       "      <td>2</td>\n",
       "      <td>B000F83SZQ</td>\n",
       "      <td>[2, 2]</td>\n",
       "      <td>4</td>\n",
       "      <td>This was a fairly interesting read.  It had ol...</td>\n",
       "      <td>04 4, 2014</td>\n",
       "      <td>A795DMNCJILA6</td>\n",
       "      <td>dot</td>\n",
       "      <td>Oldie</td>\n",
       "      <td>1396569600</td>\n",
       "    </tr>\n",
       "    <tr>\n",
       "      <th>3</th>\n",
       "      <td>3</td>\n",
       "      <td>B000F83SZQ</td>\n",
       "      <td>[1, 1]</td>\n",
       "      <td>5</td>\n",
       "      <td>I'd never read any of the Amy Brewster mysteri...</td>\n",
       "      <td>02 19, 2014</td>\n",
       "      <td>A1FV0SX13TWVXQ</td>\n",
       "      <td>Elaine H. Turley \"Montana Songbird\"</td>\n",
       "      <td>I really liked it.</td>\n",
       "      <td>1392768000</td>\n",
       "    </tr>\n",
       "    <tr>\n",
       "      <th>4</th>\n",
       "      <td>4</td>\n",
       "      <td>B000F83SZQ</td>\n",
       "      <td>[0, 1]</td>\n",
       "      <td>4</td>\n",
       "      <td>If you like period pieces - clothing, lingo, y...</td>\n",
       "      <td>03 19, 2014</td>\n",
       "      <td>A3SPTOKDG7WBLN</td>\n",
       "      <td>Father Dowling Fan</td>\n",
       "      <td>Period Mystery</td>\n",
       "      <td>1395187200</td>\n",
       "    </tr>\n",
       "  </tbody>\n",
       "</table>\n",
       "</div>"
      ],
      "text/plain": [
       "   Unnamed: 0        asin helpful  overall  \\\n",
       "0           0  B000F83SZQ  [0, 0]        5   \n",
       "1           1  B000F83SZQ  [2, 2]        4   \n",
       "2           2  B000F83SZQ  [2, 2]        4   \n",
       "3           3  B000F83SZQ  [1, 1]        5   \n",
       "4           4  B000F83SZQ  [0, 1]        4   \n",
       "\n",
       "                                          reviewText   reviewTime  \\\n",
       "0  I enjoy vintage books and movies so I enjoyed ...   05 5, 2014   \n",
       "1  This book is a reissue of an old one; the auth...   01 6, 2014   \n",
       "2  This was a fairly interesting read.  It had ol...   04 4, 2014   \n",
       "3  I'd never read any of the Amy Brewster mysteri...  02 19, 2014   \n",
       "4  If you like period pieces - clothing, lingo, y...  03 19, 2014   \n",
       "\n",
       "       reviewerID                         reviewerName             summary  \\\n",
       "0  A1F6404F1VG29J                           Avidreader  Nice vintage story   \n",
       "1   AN0N05A9LIJEQ                             critters        Different...   \n",
       "2   A795DMNCJILA6                                  dot               Oldie   \n",
       "3  A1FV0SX13TWVXQ  Elaine H. Turley \"Montana Songbird\"  I really liked it.   \n",
       "4  A3SPTOKDG7WBLN                   Father Dowling Fan      Period Mystery   \n",
       "\n",
       "   unixReviewTime  \n",
       "0      1399248000  \n",
       "1      1388966400  \n",
       "2      1396569600  \n",
       "3      1392768000  \n",
       "4      1395187200  "
      ]
     },
     "execution_count": 59,
     "metadata": {},
     "output_type": "execute_result"
    }
   ],
   "source": [
    "df = pd.read_csv(\"kindle_reviews.csv\")\n",
    "df.head()"
   ]
  },
  {
   "cell_type": "code",
   "execution_count": 60,
   "metadata": {},
   "outputs": [
    {
     "data": {
      "text/html": [
       "<div>\n",
       "<style scoped>\n",
       "    .dataframe tbody tr th:only-of-type {\n",
       "        vertical-align: middle;\n",
       "    }\n",
       "\n",
       "    .dataframe tbody tr th {\n",
       "        vertical-align: top;\n",
       "    }\n",
       "\n",
       "    .dataframe thead th {\n",
       "        text-align: right;\n",
       "    }\n",
       "</style>\n",
       "<table border=\"1\" class=\"dataframe\">\n",
       "  <thead>\n",
       "    <tr style=\"text-align: right;\">\n",
       "      <th></th>\n",
       "      <th>Unnamed: 0</th>\n",
       "      <th>overall</th>\n",
       "      <th>unixReviewTime</th>\n",
       "    </tr>\n",
       "  </thead>\n",
       "  <tbody>\n",
       "    <tr>\n",
       "      <th>count</th>\n",
       "      <td>982619.000000</td>\n",
       "      <td>982619.000000</td>\n",
       "      <td>9.826190e+05</td>\n",
       "    </tr>\n",
       "    <tr>\n",
       "      <th>mean</th>\n",
       "      <td>491309.000000</td>\n",
       "      <td>4.347801</td>\n",
       "      <td>1.378183e+09</td>\n",
       "    </tr>\n",
       "    <tr>\n",
       "      <th>std</th>\n",
       "      <td>283657.816418</td>\n",
       "      <td>0.955056</td>\n",
       "      <td>2.298476e+07</td>\n",
       "    </tr>\n",
       "    <tr>\n",
       "      <th>min</th>\n",
       "      <td>0.000000</td>\n",
       "      <td>1.000000</td>\n",
       "      <td>9.522144e+08</td>\n",
       "    </tr>\n",
       "    <tr>\n",
       "      <th>25%</th>\n",
       "      <td>245654.500000</td>\n",
       "      <td>4.000000</td>\n",
       "      <td>1.365206e+09</td>\n",
       "    </tr>\n",
       "    <tr>\n",
       "      <th>50%</th>\n",
       "      <td>491309.000000</td>\n",
       "      <td>5.000000</td>\n",
       "      <td>1.383523e+09</td>\n",
       "    </tr>\n",
       "    <tr>\n",
       "      <th>75%</th>\n",
       "      <td>736963.500000</td>\n",
       "      <td>5.000000</td>\n",
       "      <td>1.396051e+09</td>\n",
       "    </tr>\n",
       "    <tr>\n",
       "      <th>max</th>\n",
       "      <td>982618.000000</td>\n",
       "      <td>5.000000</td>\n",
       "      <td>1.406074e+09</td>\n",
       "    </tr>\n",
       "  </tbody>\n",
       "</table>\n",
       "</div>"
      ],
      "text/plain": [
       "          Unnamed: 0        overall  unixReviewTime\n",
       "count  982619.000000  982619.000000    9.826190e+05\n",
       "mean   491309.000000       4.347801    1.378183e+09\n",
       "std    283657.816418       0.955056    2.298476e+07\n",
       "min         0.000000       1.000000    9.522144e+08\n",
       "25%    245654.500000       4.000000    1.365206e+09\n",
       "50%    491309.000000       5.000000    1.383523e+09\n",
       "75%    736963.500000       5.000000    1.396051e+09\n",
       "max    982618.000000       5.000000    1.406074e+09"
      ]
     },
     "execution_count": 60,
     "metadata": {},
     "output_type": "execute_result"
    }
   ],
   "source": [
    "# Sampling the dataset \n",
    "df.describe()"
   ]
  },
  {
   "cell_type": "code",
   "execution_count": 61,
   "metadata": {},
   "outputs": [
    {
     "name": "stdout",
     "output_type": "stream",
     "text": [
      "61934\n"
     ]
    }
   ],
   "source": [
    "unique_items_count = df['asin'].nunique()\n",
    "print(unique_items_count)"
   ]
  },
  {
   "cell_type": "code",
   "execution_count": 62,
   "metadata": {},
   "outputs": [
    {
     "data": {
      "text/plain": [
       "982619"
      ]
     },
     "execution_count": 62,
     "metadata": {},
     "output_type": "execute_result"
    }
   ],
   "source": [
    "len(df)"
   ]
  },
  {
   "cell_type": "code",
   "execution_count": 63,
   "metadata": {},
   "outputs": [
    {
     "name": "stdout",
     "output_type": "stream",
     "text": [
      "A book a day\n",
      "A. Brinskele \"Ang\"\n",
      "ANNE JOLiN BOOK BLOG\n",
      "Amazon Customer \"Stacey W\"\n",
      "Amazon Customer \"The Book guru\"\n",
      "Amazon Customer \"lover of books\"\n",
      "Ande Lyons \"Ande Lyons\"\n",
      "Antwan Floyd Sr.\n",
      "Aramann\n",
      "Arec\n",
      "Arizona Paul\n",
      "Blondie \"mino\"\n",
      "Bob Holley\n",
      "Brigitte Antoinette Ware\n",
      "Cassandra Sherred \"CYSherred\"\n",
      "Cassy Taylor\n",
      "Cecily's Book Review \"cecily bonney\"\n",
      "Chris's Book Addiction\n",
      "Cocoa\n",
      "Dannae L.\n",
      "David P. Ehrlich\n",
      "Dawn M Blackmon\n",
      "Days fan\n",
      "DebSunshine\n",
      "Deborah Capers\n",
      "Deep S\n",
      "Duane Hennessy\n",
      "Elizabeth Fidler\n",
      "Good Karma\n",
      "GreatExpectations\n",
      "HonestMabel\n",
      "Horseluver\n",
      "J. Sabla\n",
      "James Greenwood\n",
      "Jessica Hunt \"Geniune Reviews\"\n",
      "Jessica Wilson \"specialjjjj\"\n",
      "Jo-Ann Eshbach\n",
      "Judith Ann Abbott\n",
      "Karie\n",
      "Katie L. Carroll\n",
      "Kelley M. Rogers\n",
      "Kindle Customer \"Cats   ^..^\"\n",
      "Kindle Customer \"firstloves\"\n",
      "Kris @Imaginary Reads\n",
      "LED\n",
      "Lace \"pollywog\"\n",
      "Love&amp;amp;amp;amp;amp;amp;amp;amp;amp;Sports\n",
      "MM Read\n",
      "Marion Rudnick \"Marion Rudnick\"\n",
      "Mary Laprade\n",
      "Megan C. Christmas \"Megan\"\n",
      "Melstan\n",
      "Michael L. Fowler \"rare horror movie fan\"\n",
      "Michael brown\n",
      "Milce\n",
      "Miranda Reed\n",
      "Moongie \"Moongie\"\n",
      "Moonlite\n",
      "Nancy Rosenthal\n",
      "NyJa Stevenson\n",
      "Padrina\n",
      "Patti (PBP) \"Great card maker  & loves to read\"\n",
      "Prof Cochise\n",
      "R.w.Foster \"R.w.Foster\"\n",
      "Rebecca K\n",
      "Rene Sarille\n",
      "RoShunda Ward\n",
      "Sydney Sherwood\n",
      "T Casper\n",
      "T.P. Miller (Author of Out for Blood and A Wo...\n",
      "Tattooed Moon\n",
      "Terence Connor\n",
      "TerryP\n",
      "Tina S\n",
      "Tstines\n",
      "Victoria T\n",
      "Wendy Davy\n",
      "Wendy at Fabulosity Reads\n",
      "barbara wilson\n",
      "cathy m freeze\n",
      "hjkm\n",
      "jasmine scales\n",
      "jessica danowski\n",
      "lashonna tinner\n",
      "myesha cottman\n",
      "naschlauer\n",
      "noseinbook \"nosenbook\"\n",
      "not such a new mom\n",
      "s.d. hyvl\n",
      "shanora parkd\n"
     ]
    }
   ],
   "source": [
    "# Finding the reviewerID of those reviewers who have reviewed a book only once\n",
    "grouped = df.groupby('reviewerName')\n",
    "single_reviewers = []\n",
    "count = 0\n",
    "for group_name, group_df in grouped:\n",
    "    if(len(group_df)==1):\n",
    "        print(group_name)\n",
    "        single_reviewers.append(group_name)\n",
    "        \n",
    "df = df[~df['reviewerName'].isin(single_reviewers)]\n",
    "\n",
    "# These are the reviews we can delete from our dataset as these reviewers cannot reccommend anyone anything\n"
   ]
  },
  {
   "cell_type": "code",
   "execution_count": 64,
   "metadata": {},
   "outputs": [
    {
     "name": "stdout",
     "output_type": "stream",
     "text": [
      "Unnamed: 0           0\n",
      "asin                 0\n",
      "helpful              0\n",
      "overall              0\n",
      "reviewText          22\n",
      "reviewTime           0\n",
      "reviewerID           0\n",
      "reviewerName      3816\n",
      "summary              1\n",
      "unixReviewTime       0\n",
      "dtype: int64\n"
     ]
    }
   ],
   "source": [
    "null_counts = df.isnull().sum()\n",
    "print(null_counts)\n",
    "df = df.dropna(subset=['reviewText'])\n",
    "# We can also delete those rows where the review text is "
   ]
  },
  {
   "cell_type": "code",
   "execution_count": 65,
   "metadata": {},
   "outputs": [
    {
     "name": "stdout",
     "output_type": "stream",
     "text": [
      "object\n"
     ]
    }
   ],
   "source": [
    "column_dtype = df['helpful'].dtype\n",
    "print(column_dtype)"
   ]
  },
  {
   "cell_type": "code",
   "execution_count": 66,
   "metadata": {},
   "outputs": [
    {
     "name": "stdout",
     "output_type": "stream",
     "text": [
      "['[0, 0]' '[2, 2]' '[1, 1]' ... '[23, 62]' '[116, 121]' '[56, 80]']\n"
     ]
    }
   ],
   "source": [
    "# We can remove those reviews who have a helpfulness rating of 0 and less than 20%\n",
    "unique_values = df['helpful'].unique()\n",
    "print(unique_values)"
   ]
  },
  {
   "cell_type": "code",
   "execution_count": 67,
   "metadata": {},
   "outputs": [],
   "source": [
    "helpless_ratings = []\n",
    "for i in range (0,len(unique_values)-1):\n",
    "    chk = eval(unique_values[i])\n",
    "    if(chk[0]==0):\n",
    "        helpless_ratings.append(unique_values[i])\n",
    "        continue\n",
    "    if((chk[0]/chk[1])<=0.6):\n",
    "        helpless_ratings.append(unique_values[i])\n"
   ]
  },
  {
   "cell_type": "code",
   "execution_count": 68,
   "metadata": {},
   "outputs": [
    {
     "data": {
      "text/plain": [
       "356008"
      ]
     },
     "execution_count": 68,
     "metadata": {},
     "output_type": "execute_result"
    }
   ],
   "source": [
    "df = df[~df['helpful'].isin(helpless_ratings)]\n",
    "len(df)"
   ]
  },
  {
   "cell_type": "code",
   "execution_count": 80,
   "metadata": {},
   "outputs": [],
   "source": [
    "# Unicode Normalization \n",
    "import unicodedata\n",
    "normalized_text = df['reviewText'].apply(lambda x: unicodedata.normalize('NFC', x))\n",
    "df['reviewText'] = normalized_text"
   ]
  },
  {
   "cell_type": "code",
   "execution_count": 81,
   "metadata": {},
   "outputs": [],
   "source": [
    "# Remove unwanted spaces,extra trailing and leading spaces,punctuations,full-stops,inverted commas,special characters\n",
    "import re\n",
    "def clean_text(text):\n",
    "    cleaned_text = re.sub(r'[^\\w\\s]', '', text)\n",
    "    cleaned_text = re.sub(r'\\s+', ' ', cleaned_text) \n",
    "    return cleaned_text.strip()\n",
    "df['reviewText'] = df['reviewText'].apply(lambda x: clean_text(x))\n"
   ]
  },
  {
   "cell_type": "code",
   "execution_count": 83,
   "metadata": {},
   "outputs": [
    {
     "name": "stderr",
     "output_type": "stream",
     "text": [
      "[nltk_data] Downloading package punkt to\n",
      "[nltk_data]     C:\\Users\\Shrishail\\AppData\\Roaming\\nltk_data...\n",
      "[nltk_data]   Package punkt is already up-to-date!\n",
      "[nltk_data] Downloading package stopwords to\n",
      "[nltk_data]     C:\\Users\\Shrishail\\AppData\\Roaming\\nltk_data...\n",
      "[nltk_data]   Package stopwords is already up-to-date!\n"
     ]
    }
   ],
   "source": [
    "# Removing stopwords from the dataset\n",
    "import nltk\n",
    "from nltk.corpus import stopwords\n",
    "from nltk.tokenize import word_tokenize\n",
    "nltk.download('punkt')\n",
    "nltk.download('stopwords')\n",
    "def remove_stopwords(text):\n",
    "    tokens = word_tokenize(text)    \n",
    "    stop_words = set(stopwords.words('english'))\n",
    "    filtered_tokens = [word for word in tokens if word.lower() not in stop_words]\n",
    "    filtered_text = ' '.join(filtered_tokens)\n",
    "    return filtered_text\n",
    "df['reviewText'] = df['reviewText'].apply(lambda x: remove_stopwords(x))\n"
   ]
  },
  {
   "cell_type": "code",
   "execution_count": null,
   "metadata": {},
   "outputs": [],
   "source": []
  }
 ],
 "metadata": {
  "kernelspec": {
   "display_name": "Python 3",
   "language": "python",
   "name": "python3"
  },
  "language_info": {
   "codemirror_mode": {
    "name": "ipython",
    "version": 3
   },
   "file_extension": ".py",
   "mimetype": "text/x-python",
   "name": "python",
   "nbconvert_exporter": "python",
   "pygments_lexer": "ipython3",
   "version": "3.10.1"
  }
 },
 "nbformat": 4,
 "nbformat_minor": 2
}
