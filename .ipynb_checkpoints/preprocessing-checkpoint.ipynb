{
 "cells": [
  {
   "cell_type": "code",
   "execution_count": 1,
   "metadata": {},
   "outputs": [
    {
     "name": "stderr",
     "output_type": "stream",
     "text": [
      "[nltk_data] Downloading package punkt to\n",
      "[nltk_data]     C:\\Users\\manik\\AppData\\Roaming\\nltk_data...\n",
      "[nltk_data]   Unzipping tokenizers\\punkt.zip.\n",
      "[nltk_data] Downloading package stopwords to\n",
      "[nltk_data]     C:\\Users\\manik\\AppData\\Roaming\\nltk_data...\n",
      "[nltk_data]   Unzipping corpora\\stopwords.zip.\n"
     ]
    },
    {
     "data": {
      "text/plain": [
       "True"
      ]
     },
     "execution_count": 1,
     "metadata": {},
     "output_type": "execute_result"
    }
   ],
   "source": [
    "# Importing all the libraries\n",
    "import pandas as pd\n",
    "import numpy as np\n",
    "import matplotlib.pyplot as plt\n",
    "import sklearn\n",
    "import json\n",
    "import nltk\n",
    "from nltk.corpus import stopwords\n",
    "from nltk.tokenize import word_tokenize\n",
    "nltk.download('punkt')\n",
    "nltk.download('stopwords')"
   ]
  },
  {
   "cell_type": "code",
   "execution_count": 2,
   "metadata": {
    "scrolled": true
   },
   "outputs": [
    {
     "data": {
      "text/html": [
       "<div>\n",
       "<style scoped>\n",
       "    .dataframe tbody tr th:only-of-type {\n",
       "        vertical-align: middle;\n",
       "    }\n",
       "\n",
       "    .dataframe tbody tr th {\n",
       "        vertical-align: top;\n",
       "    }\n",
       "\n",
       "    .dataframe thead th {\n",
       "        text-align: right;\n",
       "    }\n",
       "</style>\n",
       "<table border=\"1\" class=\"dataframe\">\n",
       "  <thead>\n",
       "    <tr style=\"text-align: right;\">\n",
       "      <th></th>\n",
       "      <th>reviewerID</th>\n",
       "      <th>asin</th>\n",
       "      <th>reviewerName</th>\n",
       "      <th>helpful</th>\n",
       "      <th>reviewText</th>\n",
       "      <th>overall</th>\n",
       "      <th>summary</th>\n",
       "      <th>unixReviewTime</th>\n",
       "      <th>reviewTime</th>\n",
       "    </tr>\n",
       "  </thead>\n",
       "  <tbody>\n",
       "    <tr>\n",
       "      <th>0</th>\n",
       "      <td>A1F6404F1VG29J</td>\n",
       "      <td>B000F83SZQ</td>\n",
       "      <td>Avidreader</td>\n",
       "      <td>[0, 0]</td>\n",
       "      <td>I enjoy vintage books and movies so I enjoyed ...</td>\n",
       "      <td>5</td>\n",
       "      <td>Nice vintage story</td>\n",
       "      <td>1399248000</td>\n",
       "      <td>05 5, 2014</td>\n",
       "    </tr>\n",
       "    <tr>\n",
       "      <th>1</th>\n",
       "      <td>AN0N05A9LIJEQ</td>\n",
       "      <td>B000F83SZQ</td>\n",
       "      <td>critters</td>\n",
       "      <td>[2, 2]</td>\n",
       "      <td>This book is a reissue of an old one; the auth...</td>\n",
       "      <td>4</td>\n",
       "      <td>Different...</td>\n",
       "      <td>1388966400</td>\n",
       "      <td>01 6, 2014</td>\n",
       "    </tr>\n",
       "    <tr>\n",
       "      <th>2</th>\n",
       "      <td>A795DMNCJILA6</td>\n",
       "      <td>B000F83SZQ</td>\n",
       "      <td>dot</td>\n",
       "      <td>[2, 2]</td>\n",
       "      <td>This was a fairly interesting read.  It had ol...</td>\n",
       "      <td>4</td>\n",
       "      <td>Oldie</td>\n",
       "      <td>1396569600</td>\n",
       "      <td>04 4, 2014</td>\n",
       "    </tr>\n",
       "    <tr>\n",
       "      <th>3</th>\n",
       "      <td>A1FV0SX13TWVXQ</td>\n",
       "      <td>B000F83SZQ</td>\n",
       "      <td>Elaine H. Turley \"Montana Songbird\"</td>\n",
       "      <td>[1, 1]</td>\n",
       "      <td>I'd never read any of the Amy Brewster mysteri...</td>\n",
       "      <td>5</td>\n",
       "      <td>I really liked it.</td>\n",
       "      <td>1392768000</td>\n",
       "      <td>02 19, 2014</td>\n",
       "    </tr>\n",
       "    <tr>\n",
       "      <th>4</th>\n",
       "      <td>A3SPTOKDG7WBLN</td>\n",
       "      <td>B000F83SZQ</td>\n",
       "      <td>Father Dowling Fan</td>\n",
       "      <td>[0, 1]</td>\n",
       "      <td>If you like period pieces - clothing, lingo, y...</td>\n",
       "      <td>4</td>\n",
       "      <td>Period Mystery</td>\n",
       "      <td>1395187200</td>\n",
       "      <td>03 19, 2014</td>\n",
       "    </tr>\n",
       "  </tbody>\n",
       "</table>\n",
       "</div>"
      ],
      "text/plain": [
       "       reviewerID        asin                         reviewerName helpful  \\\n",
       "0  A1F6404F1VG29J  B000F83SZQ                           Avidreader  [0, 0]   \n",
       "1   AN0N05A9LIJEQ  B000F83SZQ                             critters  [2, 2]   \n",
       "2   A795DMNCJILA6  B000F83SZQ                                  dot  [2, 2]   \n",
       "3  A1FV0SX13TWVXQ  B000F83SZQ  Elaine H. Turley \"Montana Songbird\"  [1, 1]   \n",
       "4  A3SPTOKDG7WBLN  B000F83SZQ                   Father Dowling Fan  [0, 1]   \n",
       "\n",
       "                                          reviewText  overall  \\\n",
       "0  I enjoy vintage books and movies so I enjoyed ...        5   \n",
       "1  This book is a reissue of an old one; the auth...        4   \n",
       "2  This was a fairly interesting read.  It had ol...        4   \n",
       "3  I'd never read any of the Amy Brewster mysteri...        5   \n",
       "4  If you like period pieces - clothing, lingo, y...        4   \n",
       "\n",
       "              summary  unixReviewTime   reviewTime  \n",
       "0  Nice vintage story      1399248000   05 5, 2014  \n",
       "1        Different...      1388966400   01 6, 2014  \n",
       "2               Oldie      1396569600   04 4, 2014  \n",
       "3  I really liked it.      1392768000  02 19, 2014  \n",
       "4      Period Mystery      1395187200  03 19, 2014  "
      ]
     },
     "execution_count": 2,
     "metadata": {},
     "output_type": "execute_result"
    }
   ],
   "source": [
    "reviews_df = pd.read_json(r\"C:\\Users\\manik\\Downloads\\kindle_reviews\\kindle_reviews.json\", lines=True)\n",
    "reviews_df.head()\n"
   ]
  },
  {
   "cell_type": "markdown",
   "metadata": {},
   "source": [
    "**Data Dictionary**<br>\n",
    "asin - ID of the product <br>\n",
    "helpful - helpfulness rating of the review <br>\n",
    "overall - rating of the product <br>\n",
    "reviewText - text of the review (heading) <br>\n",
    "reviewTime - time of the review (raw) <br>\n",
    "reviewerID - ID of the reviewer <br>\n",
    "reviewerName - name of the reviewer <br>\n",
    "summary - summary of the review<br>\n",
    "unixReviewTime - unix timestamp <br>"
   ]
  },
  {
   "cell_type": "code",
   "execution_count": 3,
   "metadata": {},
   "outputs": [
    {
     "name": "stdout",
     "output_type": "stream",
     "text": [
      "61934\n"
     ]
    }
   ],
   "source": [
    "unique_items_count = reviews_df['asin'].nunique()\n",
    "print(unique_items_count)"
   ]
  },
  {
   "cell_type": "code",
   "execution_count": 4,
   "metadata": {
    "scrolled": true
   },
   "outputs": [
    {
     "data": {
      "text/plain": [
       "982619"
      ]
     },
     "execution_count": 4,
     "metadata": {},
     "output_type": "execute_result"
    }
   ],
   "source": [
    "len(reviews_df)"
   ]
  },
  {
   "cell_type": "code",
   "execution_count": 5,
   "metadata": {},
   "outputs": [],
   "source": [
    "product_counts = reviews_df[\"asin\"].value_counts()\n",
    "products_filtered = product_counts[product_counts>=50]"
   ]
  },
  {
   "cell_type": "code",
   "execution_count": 6,
   "metadata": {},
   "outputs": [],
   "source": [
    "reviews_df_filtered = reviews_df.query(\"asin in @products_filtered.index.tolist()\")"
   ]
  },
  {
   "cell_type": "code",
   "execution_count": 7,
   "metadata": {
    "scrolled": true
   },
   "outputs": [
    {
     "data": {
      "text/html": [
       "<div>\n",
       "<style scoped>\n",
       "    .dataframe tbody tr th:only-of-type {\n",
       "        vertical-align: middle;\n",
       "    }\n",
       "\n",
       "    .dataframe tbody tr th {\n",
       "        vertical-align: top;\n",
       "    }\n",
       "\n",
       "    .dataframe thead th {\n",
       "        text-align: right;\n",
       "    }\n",
       "</style>\n",
       "<table border=\"1\" class=\"dataframe\">\n",
       "  <thead>\n",
       "    <tr style=\"text-align: right;\">\n",
       "      <th></th>\n",
       "      <th>reviewerID</th>\n",
       "      <th>asin</th>\n",
       "      <th>reviewerName</th>\n",
       "      <th>helpful</th>\n",
       "      <th>reviewText</th>\n",
       "      <th>overall</th>\n",
       "      <th>summary</th>\n",
       "      <th>unixReviewTime</th>\n",
       "      <th>reviewTime</th>\n",
       "    </tr>\n",
       "  </thead>\n",
       "  <tbody>\n",
       "    <tr>\n",
       "      <th>189</th>\n",
       "      <td>A19V8I1LEHA1YW</td>\n",
       "      <td>B000JMLBHU</td>\n",
       "      <td>Alexander Hollins \"Author, Reader, Editor, Tired\"</td>\n",
       "      <td>[0, 0]</td>\n",
       "      <td>A manual on desert island survival in its own ...</td>\n",
       "      <td>4</td>\n",
       "      <td>A classic for a reason</td>\n",
       "      <td>1404000000</td>\n",
       "      <td>06 29, 2014</td>\n",
       "    </tr>\n",
       "    <tr>\n",
       "      <th>190</th>\n",
       "      <td>A3J5D9XN0QT9AG</td>\n",
       "      <td>B000JMLBHU</td>\n",
       "      <td>Allrie</td>\n",
       "      <td>[0, 0]</td>\n",
       "      <td>I remember going to the movie theatre when abo...</td>\n",
       "      <td>5</td>\n",
       "      <td>Trouble</td>\n",
       "      <td>1367366400</td>\n",
       "      <td>05 1, 2013</td>\n",
       "    </tr>\n",
       "    <tr>\n",
       "      <th>191</th>\n",
       "      <td>A33EX8MZYBV0YI</td>\n",
       "      <td>B000JMLBHU</td>\n",
       "      <td>alone with books</td>\n",
       "      <td>[0, 0]</td>\n",
       "      <td>this was an Ok book, but slow at times, I actu...</td>\n",
       "      <td>3</td>\n",
       "      <td>the Mysterrous Island</td>\n",
       "      <td>1374537600</td>\n",
       "      <td>07 23, 2013</td>\n",
       "    </tr>\n",
       "    <tr>\n",
       "      <th>192</th>\n",
       "      <td>A3HK1FZVP03IIC</td>\n",
       "      <td>B000JMLBHU</td>\n",
       "      <td>Amazon Customer</td>\n",
       "      <td>[0, 0]</td>\n",
       "      <td>Classic. What else needs to be said. An advent...</td>\n",
       "      <td>4</td>\n",
       "      <td>Classic</td>\n",
       "      <td>1358208000</td>\n",
       "      <td>01 15, 2013</td>\n",
       "    </tr>\n",
       "    <tr>\n",
       "      <th>193</th>\n",
       "      <td>A27EEX3H2CB70G</td>\n",
       "      <td>B000JMLBHU</td>\n",
       "      <td>Amazon Customer</td>\n",
       "      <td>[0, 0]</td>\n",
       "      <td>I read the who thing on my phone.  Enjoyed it ...</td>\n",
       "      <td>4</td>\n",
       "      <td>Good Story</td>\n",
       "      <td>1365638400</td>\n",
       "      <td>04 11, 2013</td>\n",
       "    </tr>\n",
       "    <tr>\n",
       "      <th>...</th>\n",
       "      <td>...</td>\n",
       "      <td>...</td>\n",
       "      <td>...</td>\n",
       "      <td>...</td>\n",
       "      <td>...</td>\n",
       "      <td>...</td>\n",
       "      <td>...</td>\n",
       "      <td>...</td>\n",
       "      <td>...</td>\n",
       "    </tr>\n",
       "    <tr>\n",
       "      <th>982567</th>\n",
       "      <td>A20MYFNLY6TGNL</td>\n",
       "      <td>B00LZKMXBI</td>\n",
       "      <td>The Book Fairy \"The Book Fairy\"</td>\n",
       "      <td>[0, 0]</td>\n",
       "      <td>Amazing! I was crying from page 1 And sweating...</td>\n",
       "      <td>5</td>\n",
       "      <td>Tears galore!!!!</td>\n",
       "      <td>1406073600</td>\n",
       "      <td>07 23, 2014</td>\n",
       "    </tr>\n",
       "    <tr>\n",
       "      <th>982568</th>\n",
       "      <td>A19DWIC1T7127Y</td>\n",
       "      <td>B00LZKMXBI</td>\n",
       "      <td>T</td>\n",
       "      <td>[3, 3]</td>\n",
       "      <td>I received an advanced reader's copy of this b...</td>\n",
       "      <td>4</td>\n",
       "      <td>Moving On</td>\n",
       "      <td>1405900800</td>\n",
       "      <td>07 21, 2014</td>\n",
       "    </tr>\n",
       "    <tr>\n",
       "      <th>982569</th>\n",
       "      <td>A28E8S7CY2LJ5W</td>\n",
       "      <td>B00LZKMXBI</td>\n",
       "      <td>Tlh</td>\n",
       "      <td>[1, 1]</td>\n",
       "      <td>Grab tissues, the first few pages had me cryin...</td>\n",
       "      <td>5</td>\n",
       "      <td>Grab your tissues and enjoy a great story !!!!!</td>\n",
       "      <td>1405900800</td>\n",
       "      <td>07 21, 2014</td>\n",
       "    </tr>\n",
       "    <tr>\n",
       "      <th>982570</th>\n",
       "      <td>A2GCYN1TPTKX72</td>\n",
       "      <td>B00LZKMXBI</td>\n",
       "      <td>Tricia</td>\n",
       "      <td>[4, 5]</td>\n",
       "      <td>ARC review..... Let me just start by saying I ...</td>\n",
       "      <td>5</td>\n",
       "      <td>Awesome!!!!!</td>\n",
       "      <td>1405900800</td>\n",
       "      <td>07 21, 2014</td>\n",
       "    </tr>\n",
       "    <tr>\n",
       "      <th>982571</th>\n",
       "      <td>A1098Z3D7ENJ2F</td>\n",
       "      <td>B00LZKMXBI</td>\n",
       "      <td>veronica mostel</td>\n",
       "      <td>[0, 1]</td>\n",
       "      <td>What a great story. I really enjoyed it. Sad b...</td>\n",
       "      <td>5</td>\n",
       "      <td>Wow</td>\n",
       "      <td>1405987200</td>\n",
       "      <td>07 22, 2014</td>\n",
       "    </tr>\n",
       "  </tbody>\n",
       "</table>\n",
       "<p>255419 rows × 9 columns</p>\n",
       "</div>"
      ],
      "text/plain": [
       "            reviewerID        asin  \\\n",
       "189     A19V8I1LEHA1YW  B000JMLBHU   \n",
       "190     A3J5D9XN0QT9AG  B000JMLBHU   \n",
       "191     A33EX8MZYBV0YI  B000JMLBHU   \n",
       "192     A3HK1FZVP03IIC  B000JMLBHU   \n",
       "193     A27EEX3H2CB70G  B000JMLBHU   \n",
       "...                ...         ...   \n",
       "982567  A20MYFNLY6TGNL  B00LZKMXBI   \n",
       "982568  A19DWIC1T7127Y  B00LZKMXBI   \n",
       "982569  A28E8S7CY2LJ5W  B00LZKMXBI   \n",
       "982570  A2GCYN1TPTKX72  B00LZKMXBI   \n",
       "982571  A1098Z3D7ENJ2F  B00LZKMXBI   \n",
       "\n",
       "                                             reviewerName helpful  \\\n",
       "189     Alexander Hollins \"Author, Reader, Editor, Tired\"  [0, 0]   \n",
       "190                                                Allrie  [0, 0]   \n",
       "191                                      alone with books  [0, 0]   \n",
       "192                                       Amazon Customer  [0, 0]   \n",
       "193                                       Amazon Customer  [0, 0]   \n",
       "...                                                   ...     ...   \n",
       "982567                    The Book Fairy \"The Book Fairy\"  [0, 0]   \n",
       "982568                                                  T  [3, 3]   \n",
       "982569                                                Tlh  [1, 1]   \n",
       "982570                                             Tricia  [4, 5]   \n",
       "982571                                    veronica mostel  [0, 1]   \n",
       "\n",
       "                                               reviewText  overall  \\\n",
       "189     A manual on desert island survival in its own ...        4   \n",
       "190     I remember going to the movie theatre when abo...        5   \n",
       "191     this was an Ok book, but slow at times, I actu...        3   \n",
       "192     Classic. What else needs to be said. An advent...        4   \n",
       "193     I read the who thing on my phone.  Enjoyed it ...        4   \n",
       "...                                                   ...      ...   \n",
       "982567  Amazing! I was crying from page 1 And sweating...        5   \n",
       "982568  I received an advanced reader's copy of this b...        4   \n",
       "982569  Grab tissues, the first few pages had me cryin...        5   \n",
       "982570  ARC review..... Let me just start by saying I ...        5   \n",
       "982571  What a great story. I really enjoyed it. Sad b...        5   \n",
       "\n",
       "                                                summary  unixReviewTime  \\\n",
       "189                              A classic for a reason      1404000000   \n",
       "190                                             Trouble      1367366400   \n",
       "191                               the Mysterrous Island      1374537600   \n",
       "192                                             Classic      1358208000   \n",
       "193                                          Good Story      1365638400   \n",
       "...                                                 ...             ...   \n",
       "982567                                 Tears galore!!!!      1406073600   \n",
       "982568                                        Moving On      1405900800   \n",
       "982569  Grab your tissues and enjoy a great story !!!!!      1405900800   \n",
       "982570                                     Awesome!!!!!      1405900800   \n",
       "982571                                              Wow      1405987200   \n",
       "\n",
       "         reviewTime  \n",
       "189     06 29, 2014  \n",
       "190      05 1, 2013  \n",
       "191     07 23, 2013  \n",
       "192     01 15, 2013  \n",
       "193     04 11, 2013  \n",
       "...             ...  \n",
       "982567  07 23, 2014  \n",
       "982568  07 21, 2014  \n",
       "982569  07 21, 2014  \n",
       "982570  07 21, 2014  \n",
       "982571  07 22, 2014  \n",
       "\n",
       "[255419 rows x 9 columns]"
      ]
     },
     "execution_count": 7,
     "metadata": {},
     "output_type": "execute_result"
    }
   ],
   "source": [
    "reviews_df_filtered"
   ]
  },
  {
   "cell_type": "markdown",
   "metadata": {},
   "source": [
    "In the filtered dataframe we are keeping only products that are reviews atleast 50 times"
   ]
  },
  {
   "cell_type": "markdown",
   "metadata": {},
   "source": [
    "The objective was to build a recommendation system based on the reviews. Now we want to process our dataset, our thoughts was to sample the data from the helpful column which says out of the people who saw the review how many found it helpful, this is our first thought. "
   ]
  },
  {
   "cell_type": "code",
   "execution_count": 8,
   "metadata": {},
   "outputs": [
    {
     "data": {
      "text/plain": [
       "[0, 0]"
      ]
     },
     "execution_count": 8,
     "metadata": {},
     "output_type": "execute_result"
    }
   ],
   "source": [
    "reviews_df[\"helpful\"].iloc[0]"
   ]
  },
  {
   "cell_type": "markdown",
   "metadata": {},
   "source": [
    "now I want to check for the ones which are more helpful based on the percentage"
   ]
  },
  {
   "cell_type": "code",
   "execution_count": 9,
   "metadata": {},
   "outputs": [
    {
     "name": "stderr",
     "output_type": "stream",
     "text": [
      "C:\\Users\\manik\\AppData\\Local\\Temp\\ipykernel_26784\\3949530801.py:1: SettingWithCopyWarning: \n",
      "A value is trying to be set on a copy of a slice from a DataFrame.\n",
      "Try using .loc[row_indexer,col_indexer] = value instead\n",
      "\n",
      "See the caveats in the documentation: https://pandas.pydata.org/pandas-docs/stable/user_guide/indexing.html#returning-a-view-versus-a-copy\n",
      "  reviews_df_filtered[\"help_percentage\"] = reviews_df_filtered[\"helpful\"].apply(lambda x : x[0]/x[1] if x[1]!=0 else 1)\n"
     ]
    }
   ],
   "source": [
    "reviews_df_filtered[\"help_percentage\"] = reviews_df_filtered[\"helpful\"].apply(lambda x : x[0]/x[1] if x[1]!=0 else 1)"
   ]
  },
  {
   "cell_type": "code",
   "execution_count": 10,
   "metadata": {},
   "outputs": [],
   "source": [
    "reviews_df_filtered = reviews_df_filtered.query(\"help_percentage>=0.8\").reset_index(drop =True)"
   ]
  },
  {
   "cell_type": "code",
   "execution_count": 11,
   "metadata": {
    "scrolled": true
   },
   "outputs": [
    {
     "data": {
      "text/plain": [
       "(222231, 10)"
      ]
     },
     "execution_count": 11,
     "metadata": {},
     "output_type": "execute_result"
    }
   ],
   "source": [
    "reviews_df_filtered.shape"
   ]
  },
  {
   "cell_type": "code",
   "execution_count": 12,
   "metadata": {},
   "outputs": [],
   "source": [
    "# Now again we filtered those reviews which are really helpful"
   ]
  },
  {
   "cell_type": "code",
   "execution_count": 13,
   "metadata": {},
   "outputs": [],
   "source": [
    "reviews_df_filtered.reset_index(drop=True, inplace = True)"
   ]
  },
  {
   "cell_type": "code",
   "execution_count": 14,
   "metadata": {
    "scrolled": true
   },
   "outputs": [
    {
     "data": {
      "text/plain": [
       "reviewerID            0\n",
       "asin                  0\n",
       "reviewerName       2016\n",
       "helpful               0\n",
       "reviewText            0\n",
       "overall               0\n",
       "summary               0\n",
       "unixReviewTime        0\n",
       "reviewTime            0\n",
       "help_percentage       0\n",
       "dtype: int64"
      ]
     },
     "execution_count": 14,
     "metadata": {},
     "output_type": "execute_result"
    }
   ],
   "source": [
    "reviews_df_filtered.isna().sum()"
   ]
  },
  {
   "cell_type": "code",
   "execution_count": 16,
   "metadata": {},
   "outputs": [],
   "source": [
    "# Unicode Normalization \n",
    "import unicodedata\n",
    "normalized_text = reviews_df_filtered['reviewText'].apply(lambda x: unicodedata.normalize('NFC', x))\n",
    "reviews_df_filtered['reviewText'] = normalized_text"
   ]
  },
  {
   "cell_type": "code",
   "execution_count": 17,
   "metadata": {},
   "outputs": [],
   "source": [
    "# Remove unwanted spaces,extra trailing and leading spaces,punctuations,full-stops,inverted commas,special characters\n",
    "import re\n",
    "def clean_text(text):\n",
    "    cleaned_text = re.sub(r'[^\\w\\s]', '', text)\n",
    "    cleaned_text = re.sub(r'\\s+', ' ', cleaned_text) \n",
    "    return cleaned_text.strip()\n",
    "reviews_df_filtered['reviewText'] = reviews_df_filtered['reviewText'].apply(lambda x: clean_text(x))\n"
   ]
  },
  {
   "cell_type": "code",
   "execution_count": 18,
   "metadata": {},
   "outputs": [],
   "source": [
    "# Removing stopwords from the dataset\n",
    "def remove_stopwords(text):\n",
    "    tokens = word_tokenize(text)    \n",
    "    stop_words = set(stopwords.words('english'))\n",
    "    filtered_tokens = [word for word in tokens if word.lower() not in stop_words]\n",
    "    filtered_text = ' '.join(filtered_tokens)\n",
    "    return filtered_text\n",
    "reviews_df_filtered['reviewText'] = reviews_df_filtered['reviewText'].apply(lambda x: remove_stopwords(x))\n"
   ]
  },
  {
   "cell_type": "code",
   "execution_count": 19,
   "metadata": {},
   "outputs": [],
   "source": [
    "# Remove unwanted spaces,extra trailing and leading spaces,punctuations,full-stops,inverted commas,special characters\n",
    "import re\n",
    "def clean_text(text):\n",
    "    cleaned_text = re.sub(r'[^\\w\\s]', '', text)\n",
    "    cleaned_text = re.sub(r'\\s+', ' ', cleaned_text) \n",
    "    return cleaned_text.strip()\n",
    "reviews_df_filtered['reviewText'] = reviews_df_filtered['reviewText'].apply(lambda x: clean_text(x))\n"
   ]
  },
  {
   "cell_type": "code",
   "execution_count": 22,
   "metadata": {},
   "outputs": [
    {
     "data": {
      "text/plain": [
       "'manual desert island survival right book besides old Verne slow build climax love much LOT interesting little asides give lot information attitudes behaviour time treatment castaways towards land around animals Worth reading'"
      ]
     },
     "execution_count": 22,
     "metadata": {},
     "output_type": "execute_result"
    }
   ],
   "source": [
    "reviews_df_filtered[\"reviewText\"].iloc[0]"
   ]
  }
 ],
 "metadata": {
  "kernelspec": {
   "display_name": "Python 3 (ipykernel)",
   "language": "python",
   "name": "python3"
  },
  "language_info": {
   "codemirror_mode": {
    "name": "ipython",
    "version": 3
   },
   "file_extension": ".py",
   "mimetype": "text/x-python",
   "name": "python",
   "nbconvert_exporter": "python",
   "pygments_lexer": "ipython3",
   "version": "3.9.5"
  }
 },
 "nbformat": 4,
 "nbformat_minor": 4
}
