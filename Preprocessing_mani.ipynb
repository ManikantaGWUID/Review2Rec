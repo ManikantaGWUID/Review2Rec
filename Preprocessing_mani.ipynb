{
 "cells": [
  {
   "cell_type": "code",
   "execution_count": 1,
   "id": "c5aa6f65-e877-408a-b567-a054a7a02a49",
   "metadata": {},
   "outputs": [],
   "source": [
    "# Importing all the libraries\n",
    "import pandas as pd\n",
    "import numpy as np\n",
    "import matplotlib.pyplot as plt\n",
    "import sklearn\n",
    "import json"
   ]
  },
  {
   "cell_type": "code",
   "execution_count": 2,
   "id": "77343736-d47b-4674-a30a-3ef7dbc2e41a",
   "metadata": {
    "scrolled": true
   },
   "outputs": [],
   "source": [
    "# each records collecting to the list\n",
    "records = []\n",
    "with open('C:\\\\Users\\\\manik\\\\Downloads\\\\kindle_reviews\\\\kindle_reviews.json', 'r') as file:\n",
    "    for line in file:\n",
    "        json_object = json.loads(line)\n",
    "        records.append(json_object)"
   ]
  },
  {
   "cell_type": "code",
   "execution_count": 3,
   "id": "5d548cad-a77a-40b9-9adb-1c609b94535c",
   "metadata": {},
   "outputs": [],
   "source": [
    "import psycopg2"
   ]
  },
  {
   "cell_type": "code",
   "execution_count": 4,
   "id": "39ad9ee8-ff0f-44fe-af19-0168cef646cf",
   "metadata": {
    "scrolled": true
   },
   "outputs": [],
   "source": [
    "connection = psycopg2.connect(host='localhost',\n",
    "                             user='postgres',\n",
    "                             port=5432,\n",
    "                             database='postgres',\n",
    "                             password='ManiAnu@12345')\n",
    "connection.set_session(readonly=False, autocommit=True)\n",
    "cur = connection.cursor()"
   ]
  },
  {
   "cell_type": "code",
   "execution_count": 5,
   "id": "6e91dfec-f3b6-4944-a260-224c72ea134a",
   "metadata": {},
   "outputs": [],
   "source": [
    "def sanitize(data):\n",
    "    \"\"\"Recursively remove NUL characters from all strings in a data structure.\"\"\"\n",
    "    if isinstance(data, str):\n",
    "        return data.replace('\\0', '')\n",
    "    elif isinstance(data, dict):\n",
    "        return {key: sanitize(value) for key, value in data.items()}\n",
    "    elif isinstance(data, list):\n",
    "        return [sanitize(item) for item in data]\n",
    "    return data"
   ]
  },
  {
   "cell_type": "code",
   "execution_count": 6,
   "id": "b8f9304c-0173-40a1-964f-7e45f69a2c42",
   "metadata": {},
   "outputs": [],
   "source": [
    "insert_query = \"\"\"\n",
    "INSERT INTO reviews (reviewerID, asin, reviewText, summary, helpful)\n",
    "VALUES (%s, %s, %s, %s, %s);\n",
    "\"\"\""
   ]
  },
  {
   "cell_type": "code",
   "execution_count": 7,
   "id": "b5c6b58b-bf29-4efa-9bdc-051dce7faec6",
   "metadata": {},
   "outputs": [],
   "source": [
    "review_records = [(item['reviewerID'], item['asin'], item['reviewText'], item['summary'],  item['helpful']) for item in records]"
   ]
  },
  {
   "cell_type": "code",
   "execution_count": 8,
   "id": "0138fed7-6e0f-4cad-b153-7763c4c515fc",
   "metadata": {},
   "outputs": [],
   "source": [
    "sanitized_records = [sanitize(item) for item in review_records]"
   ]
  },
  {
   "cell_type": "code",
   "execution_count": 9,
   "id": "6dfedcf5-64d5-4702-9500-90817f2594e4",
   "metadata": {},
   "outputs": [
    {
     "data": {
      "text/plain": [
       "982619"
      ]
     },
     "execution_count": 9,
     "metadata": {},
     "output_type": "execute_result"
    }
   ],
   "source": [
    "len(records)"
   ]
  },
  {
   "cell_type": "code",
   "execution_count": 10,
   "id": "7b801c81-0de9-4c7d-9419-9c09dd941253",
   "metadata": {},
   "outputs": [],
   "source": [
    "def sanitize_string(input_string):\n",
    "\n",
    "    sanitized = input_string.replace('\\x00', '')\n",
    "\n",
    "    return sanitized\n"
   ]
  },
  {
   "cell_type": "code",
   "execution_count": 11,
   "id": "6b344db0-7cb6-433e-bff1-d61051d112af",
   "metadata": {},
   "outputs": [],
   "source": [
    "def sanitize_record(record):\n",
    "    # Assuming record is a dictionary with multiple text fields\n",
    "    for key, value in record.items():\n",
    "        if isinstance(value, str):\n",
    "            record[key] = sanitize_string(value)\n",
    "    return record\n"
   ]
  },
  {
   "cell_type": "code",
   "execution_count": 12,
   "id": "7be0a9ed-302d-4312-8bae-68f0727c47d4",
   "metadata": {},
   "outputs": [],
   "source": [
    "sanitized_records = [sanitize_record(record) for record in records]"
   ]
  },
  {
   "cell_type": "code",
   "execution_count": 13,
   "id": "edfdd509-1f2a-45b3-82eb-9375f4ad3717",
   "metadata": {},
   "outputs": [],
   "source": [
    "records_to_be_inserted = [(item['reviewerID'], item['asin'], item['reviewText'], item['summary'], item['helpful']) for item in sanitized_records]"
   ]
  },
  {
   "cell_type": "code",
   "execution_count": null,
   "id": "54bf66e3-9cc4-41a1-a6a3-5bea7d86cecd",
   "metadata": {
    "scrolled": true
   },
   "outputs": [],
   "source": [
    "cur.executemany(insert_query, records_to_be_inserted)\n",
    "connection.commit()"
   ]
  },
  {
   "cell_type": "code",
   "execution_count": 61,
   "id": "15fd50b6-4d0c-4bce-87d3-3c116ae15f8b",
   "metadata": {},
   "outputs": [],
   "source": []
  },
  {
   "cell_type": "code",
   "execution_count": null,
   "id": "9b889c7a-c2cd-422e-8ce4-e70f2636ab7b",
   "metadata": {},
   "outputs": [],
   "source": []
  }
 ],
 "metadata": {
  "kernelspec": {
   "display_name": "Python 3 (ipykernel)",
   "language": "python",
   "name": "python3"
  },
  "language_info": {
   "codemirror_mode": {
    "name": "ipython",
    "version": 3
   },
   "file_extension": ".py",
   "mimetype": "text/x-python",
   "name": "python",
   "nbconvert_exporter": "python",
   "pygments_lexer": "ipython3",
   "version": "3.9.5"
  }
 },
 "nbformat": 4,
 "nbformat_minor": 5
}
